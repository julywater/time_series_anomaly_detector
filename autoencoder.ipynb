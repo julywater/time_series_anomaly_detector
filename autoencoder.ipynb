{
  "nbformat": 4,
  "nbformat_minor": 0,
  "metadata": {
    "kernelspec": {
      "display_name": "Python 3",
      "language": "python",
      "name": "python3"
    },
    "language_info": {
      "codemirror_mode": {
        "name": "ipython",
        "version": 3
      },
      "file_extension": ".py",
      "mimetype": "text/x-python",
      "name": "python",
      "nbconvert_exporter": "python",
      "pygments_lexer": "ipython3",
      "version": "3.6.4"
    },
    "colab": {
      "name": "autoencoder.ipynb",
      "provenance": []
    }
  },
  "cells": [
    {
      "cell_type": "code",
      "metadata": {
        "id": "IF6csvrGR-ld",
        "colab_type": "code",
        "outputId": "2ba31e42-4f08-4900-dad3-6f89e3bc8a7d",
        "colab": {
          "base_uri": "https://localhost:8080/",
          "height": 138
        }
      },
      "source": [
        "import numpy as np\n",
        "import pandas as pd\n",
        "import matplotlib.pyplot as plt\n",
        "from sklearn.metrics import roc_auc_score\n",
        "from keras.layers import Input, LSTM, RepeatVector,TimeDistributed,Dense,Lambda\n",
        "from keras.models import Model\n",
        "from keras.layers.merge import Concatenate\n",
        "import keras.backend as K\n",
        "from google.colab import drive\n",
        "drive.mount('/content/drive')"
      ],
      "execution_count": 1,
      "outputs": [
        {
          "output_type": "stream",
          "text": [
            "Using TensorFlow backend.\n"
          ],
          "name": "stderr"
        },
        {
          "output_type": "stream",
          "text": [
            "Go to this URL in a browser: https://accounts.google.com/o/oauth2/auth?client_id=947318989803-6bn6qk8qdgf4n4g3pfee6491hc0brc4i.apps.googleusercontent.com&redirect_uri=urn%3Aietf%3Awg%3Aoauth%3A2.0%3Aoob&scope=email%20https%3A%2F%2Fwww.googleapis.com%2Fauth%2Fdocs.test%20https%3A%2F%2Fwww.googleapis.com%2Fauth%2Fdrive%20https%3A%2F%2Fwww.googleapis.com%2Fauth%2Fdrive.photos.readonly%20https%3A%2F%2Fwww.googleapis.com%2Fauth%2Fpeopleapi.readonly&response_type=code\n",
            "\n",
            "Enter your authorization code:\n",
            "··········\n",
            "Mounted at /content/drive\n"
          ],
          "name": "stdout"
        }
      ]
    },
    {
      "cell_type": "code",
      "metadata": {
        "id": "vIBTv0qoR-lh",
        "colab_type": "code",
        "colab": {}
      },
      "source": [
        "input_array=np.loadtxt(\"/content/drive/My Drive/Colab Notebooks/ECGFiveDays/ECGFiveDays_TEST.tsv\")\n",
        "np.random. seed (seed=5)\n",
        "ts_array=np.random.shuffle(input_array)\n",
        "ts_array=input_array[:,1:]\n",
        "flag_array=input_array[:,0]\n"
      ],
      "execution_count": 0,
      "outputs": []
    },
    {
      "cell_type": "code",
      "metadata": {
        "id": "8KxIOgHcR-lj",
        "colab_type": "code",
        "colab": {}
      },
      "source": [
        "#ts_array-=np.min(ts_array)\n",
        "#ts_array/=np.max(ts_array)\n"
      ],
      "execution_count": 0,
      "outputs": []
    },
    {
      "cell_type": "code",
      "metadata": {
        "id": "N5kUzYltR-ll",
        "colab_type": "code",
        "colab": {}
      },
      "source": [
        "normal=(flag_array==1)\n",
        "abnormal=(flag_array==2)\n",
        "normal_ts=ts_array[normal]\n",
        "abnormal_ts=ts_array[abnormal]"
      ],
      "execution_count": 0,
      "outputs": []
    },
    {
      "cell_type": "code",
      "metadata": {
        "id": "3MKVQpcHR-ln",
        "colab_type": "code",
        "outputId": "9a61f74d-14c1-4569-b2eb-eeae992bffe3",
        "colab": {
          "base_uri": "https://localhost:8080/",
          "height": 286
        }
      },
      "source": [
        "plt.plot(np.arange(136),normal_ts[92],label='Normal')\n",
        "plt.plot(np.arange(136),abnormal_ts[92],label='abNormal')\n",
        "plt.legend()"
      ],
      "execution_count": 10,
      "outputs": [
        {
          "output_type": "execute_result",
          "data": {
            "text/plain": [
              "<matplotlib.legend.Legend at 0x7f00404226a0>"
            ]
          },
          "metadata": {
            "tags": []
          },
          "execution_count": 10
        },
        {
          "output_type": "display_data",
          "data": {
            "image/png": "[encoded data removed]",
            "text/plain": [
              "<Figure size 432x288 with 1 Axes>"
            ]
          },
          "metadata": {
            "tags": []
          }
        }
      ]
    },
    {
      "cell_type": "code",
      "metadata": {
        "id": "VOv0XfdRR-lq",
        "colab_type": "code",
        "outputId": "ae76e81b-a21f-46f3-c5b5-1cb442eb32a7",
        "colab": {
          "base_uri": "https://localhost:8080/",
          "height": 286
        }
      },
      "source": [
        "\n",
        "resversed_normal_ts=normal_ts[:,::-1]\n",
        "normal_ts_shift=np.zeros(normal_ts.shape)\n",
        "normal_ts_shift[:,1:]=normal_ts[:,:-1]\n",
        "X=np.reshape(resversed_normal_ts,(428,136,1))\n",
        "Y=np.reshape(normal_ts,(428,136,1))\n",
        "X_decoder=np.reshape(normal_ts_shift,(428,136,1))\n",
        "#X_tran=resversed_normal_ts[50:,:]\n",
        "plt.plot(np.arange(136),resversed_normal_ts[2])"
      ],
      "execution_count": 11,
      "outputs": [
        {
          "output_type": "execute_result",
          "data": {
            "text/plain": [
              "[<matplotlib.lines.Line2D at 0x7f00406cd940>]"
            ]
          },
          "metadata": {
            "tags": []
          },
          "execution_count": 11
        },
        {
          "output_type": "display_data",
          "data": {
            "image/png": "[encoded data removed]",
            "text/plain": [
              "<Figure size 432x288 with 1 Axes>"
            ]
          },
          "metadata": {
            "tags": []
          }
        }
      ]
    },
    {
      "cell_type": "code",
      "metadata": {
        "id": "NsTBLjvfR-lt",
        "colab_type": "code",
        "colab": {}
      },
      "source": [
        "resversed_abnormal_ts=abnormal_ts[:,::-1]\n",
        "abnormal_ts_shift=np.zeros(abnormal_ts.shape)\n",
        "abnormal_ts_shift[:,1:]=abnormal_ts[:,:-1]\n",
        "abX=np.reshape(resversed_abnormal_ts,(433,136,1))\n",
        "abY=np.reshape(abnormal_ts,(433,136,1))\n",
        "abX_decoder=np.reshape(abnormal_ts_shift,(433,136,1))"
      ],
      "execution_count": 0,
      "outputs": []
    },
    {
      "cell_type": "code",
      "metadata": {
        "id": "hrzv1cevR-lv",
        "colab_type": "code",
        "outputId": "67cf6d66-d93f-4edb-942f-0de8ea3ac478",
        "colab": {
          "base_uri": "https://localhost:8080/",
          "height": 138
        }
      },
      "source": [
        "\n",
        "timesteps=136\n",
        "input_dim=1\n",
        "latent_dim=50\n",
        "inputs = Input(shape=(timesteps, input_dim))\n",
        "reverse_inp=K.reverse(inputs,axes=1)\n",
        "A,_,C = LSTM(latent_dim,return_state = True)(inputs)\n",
        "reverse_layer = Lambda(lambda x: K.reverse(x,axes=1),output_shape=(timesteps, input_dim))\n",
        "reverse_inp=reverse_layer(inputs)\n",
        "Ar,_,Cr = LSTM(latent_dim,return_state = True)(reverse_inp)\n",
        "Ac=Concatenate(axis=1)([A, Ar])\n",
        "Cc=Concatenate(axis=1)([C, Cr])\n",
        "decode_input = Input(shape=(timesteps, input_dim))\n",
        "decoded = LSTM(2*latent_dim, return_sequences=True)(decode_input,initial_state=[Ac, Cc])\n",
        "output=TimeDistributed(Dense(1,activation='linear'),input_shape=(timesteps, 1))(decoded)\n",
        "sequence_autoencoder = Model([inputs,decode_input], output)\n"
      ],
      "execution_count": 13,
      "outputs": [
        {
          "output_type": "stream",
          "text": [
            "WARNING:tensorflow:From /usr/local/lib/python3.6/dist-packages/keras/backend/tensorflow_backend.py:66: The name tf.get_default_graph is deprecated. Please use tf.compat.v1.get_default_graph instead.\n",
            "\n",
            "WARNING:tensorflow:From /usr/local/lib/python3.6/dist-packages/keras/backend/tensorflow_backend.py:541: The name tf.placeholder is deprecated. Please use tf.compat.v1.placeholder instead.\n",
            "\n",
            "WARNING:tensorflow:From /usr/local/lib/python3.6/dist-packages/keras/backend/tensorflow_backend.py:4432: The name tf.random_uniform is deprecated. Please use tf.random.uniform instead.\n",
            "\n"
          ],
          "name": "stdout"
        }
      ]
    },
    {
      "cell_type": "code",
      "metadata": {
        "id": "vJb8JFPcR-lx",
        "colab_type": "code",
        "outputId": "f35e406c-b3e9-4b73-da96-12b12c2913c4",
        "colab": {
          "base_uri": "https://localhost:8080/",
          "height": 50
        }
      },
      "source": [
        "sequence_autoencoder.compile(optimizer='adam', loss='mean_squared_error')"
      ],
      "execution_count": 14,
      "outputs": [
        {
          "output_type": "stream",
          "text": [
            "WARNING:tensorflow:From /usr/local/lib/python3.6/dist-packages/keras/optimizers.py:793: The name tf.train.Optimizer is deprecated. Please use tf.compat.v1.train.Optimizer instead.\n",
            "\n"
          ],
          "name": "stdout"
        }
      ]
    },
    {
      "cell_type": "code",
      "metadata": {
        "id": "ZJ9uoeLuR-l2",
        "colab_type": "code",
        "outputId": "5cdd0dfb-d1eb-4733-97c9-5cfefbb98ade",
        "colab": {
          "base_uri": "https://localhost:8080/",
          "height": 1000
        }
      },
      "source": [
        "sequence_autoencoder.fit([X[80:],X_decoder[80:]], Y[80:],\n",
        "                epochs=250,\n",
        "                batch_size=16,\n",
        "                shuffle=True,\n",
        "                validation_data=(([abX,abX_decoder],abY)))"
      ],
      "execution_count": 15,
      "outputs": [
        {
          "output_type": "stream",
          "text": [
            "WARNING:tensorflow:From /usr/local/lib/python3.6/dist-packages/tensorflow/python/ops/math_grad.py:1250: add_dispatch_support.<locals>.wrapper (from tensorflow.python.ops.array_ops) is deprecated and will be removed in a future version.\n",
            "Instructions for updating:\n",
            "Use tf.where in 2.0, which has the same broadcast rule as np.where\n",
            "WARNING:tensorflow:From /usr/local/lib/python3.6/dist-packages/keras/backend/tensorflow_backend.py:1033: The name tf.assign_add is deprecated. Please use tf.compat.v1.assign_add instead.\n",
            "\n",
            "WARNING:tensorflow:From /usr/local/lib/python3.6/dist-packages/keras/backend/tensorflow_backend.py:1020: The name tf.assign is deprecated. Please use tf.compat.v1.assign instead.\n",
            "\n",
            "Train on 348 samples, validate on 433 samples\n",
            "Epoch 1/250\n",
            "348/348 [==============================] - 7s 20ms/step - loss: 0.8741 - val_loss: 0.7766\n",
            "Epoch 2/250\n",
            "348/348 [==============================] - 5s 13ms/step - loss: 0.6463 - val_loss: 0.5578\n",
            "Epoch 3/250\n",
            "348/348 [==============================] - 5s 15ms/step - loss: 0.4005 - val_loss: 0.2969\n",
            "Epoch 4/250\n",
            "348/348 [==============================] - 5s 14ms/step - loss: 0.2230 - val_loss: 0.1965\n",
            "Epoch 5/250\n",
            "348/348 [==============================] - 5s 14ms/step - loss: 0.1504 - val_loss: 0.1487\n",
            "Epoch 6/250\n",
            "348/348 [==============================] - 5s 14ms/step - loss: 0.1106 - val_loss: 0.1043\n",
            "Epoch 7/250\n",
            "348/348 [==============================] - 5s 14ms/step - loss: 0.0883 - val_loss: 0.0895\n",
            "Epoch 8/250\n",
            "348/348 [==============================] - 5s 14ms/step - loss: 0.0736 - val_loss: 0.0764\n",
            "Epoch 9/250\n",
            "348/348 [==============================] - 5s 14ms/step - loss: 0.0642 - val_loss: 0.0683\n",
            "Epoch 10/250\n",
            "348/348 [==============================] - 5s 14ms/step - loss: 0.0583 - val_loss: 0.0638\n",
            "Epoch 11/250\n",
            "348/348 [==============================] - 5s 14ms/step - loss: 0.0523 - val_loss: 0.0581\n",
            "Epoch 12/250\n",
            "348/348 [==============================] - 5s 13ms/step - loss: 0.0484 - val_loss: 0.0628\n",
            "Epoch 13/250\n",
            "348/348 [==============================] - 5s 14ms/step - loss: 0.0430 - val_loss: 0.0534\n",
            "Epoch 14/250\n",
            "348/348 [==============================] - 5s 14ms/step - loss: 0.0396 - val_loss: 0.0567\n",
            "Epoch 15/250\n",
            "348/348 [==============================] - 5s 14ms/step - loss: 0.0374 - val_loss: 0.0531\n",
            "Epoch 16/250\n",
            "348/348 [==============================] - 5s 14ms/step - loss: 0.0337 - val_loss: 0.0467\n",
            "Epoch 17/250\n",
            "348/348 [==============================] - 5s 14ms/step - loss: 0.0314 - val_loss: 0.0454\n",
            "Epoch 18/250\n",
            "348/348 [==============================] - 5s 15ms/step - loss: 0.0311 - val_loss: 0.0474\n",
            "Epoch 19/250\n",
            "348/348 [==============================] - 5s 14ms/step - loss: 0.0314 - val_loss: 0.0469\n",
            "Epoch 20/250\n",
            "348/348 [==============================] - 5s 14ms/step - loss: 0.0277 - val_loss: 0.0393\n",
            "Epoch 21/250\n",
            "348/348 [==============================] - 5s 14ms/step - loss: 0.0274 - val_loss: 0.0440\n",
            "Epoch 22/250\n",
            "348/348 [==============================] - 5s 13ms/step - loss: 0.0272 - val_loss: 0.0437\n",
            "Epoch 23/250\n",
            "348/348 [==============================] - 5s 14ms/step - loss: 0.0254 - val_loss: 0.0505\n",
            "Epoch 24/250\n",
            "348/348 [==============================] - 5s 14ms/step - loss: 0.0282 - val_loss: 0.0420\n",
            "Epoch 25/250\n",
            "348/348 [==============================] - 5s 15ms/step - loss: 0.0260 - val_loss: 0.0407\n",
            "Epoch 26/250\n",
            "348/348 [==============================] - 5s 14ms/step - loss: 0.0240 - val_loss: 0.0435\n",
            "Epoch 27/250\n",
            "348/348 [==============================] - 5s 14ms/step - loss: 0.0230 - val_loss: 0.0428\n",
            "Epoch 28/250\n",
            "348/348 [==============================] - 5s 14ms/step - loss: 0.0216 - val_loss: 0.0388\n",
            "Epoch 29/250\n",
            "348/348 [==============================] - 5s 14ms/step - loss: 0.0199 - val_loss: 0.0371\n",
            "Epoch 30/250\n",
            "348/348 [==============================] - 5s 14ms/step - loss: 0.0204 - val_loss: 0.0461\n",
            "Epoch 31/250\n",
            "348/348 [==============================] - 5s 14ms/step - loss: 0.0206 - val_loss: 0.0381\n",
            "Epoch 32/250\n",
            "348/348 [==============================] - 5s 14ms/step - loss: 0.0281 - val_loss: 0.0447\n",
            "Epoch 33/250\n",
            "348/348 [==============================] - 5s 14ms/step - loss: 0.0291 - val_loss: 0.0390\n",
            "Epoch 34/250\n",
            "348/348 [==============================] - 5s 14ms/step - loss: 0.0216 - val_loss: 0.0388\n",
            "Epoch 35/250\n",
            "348/348 [==============================] - 5s 14ms/step - loss: 0.0190 - val_loss: 0.0362\n",
            "Epoch 36/250\n",
            "348/348 [==============================] - 5s 14ms/step - loss: 0.0180 - val_loss: 0.0382\n",
            "Epoch 37/250\n",
            "348/348 [==============================] - 5s 14ms/step - loss: 0.0179 - val_loss: 0.0362\n",
            "Epoch 38/250\n",
            "348/348 [==============================] - 5s 14ms/step - loss: 0.0173 - val_loss: 0.0380\n",
            "Epoch 39/250\n",
            "348/348 [==============================] - 5s 14ms/step - loss: 0.0174 - val_loss: 0.0402\n",
            "Epoch 40/250\n",
            "348/348 [==============================] - 5s 13ms/step - loss: 0.0195 - val_loss: 0.0352\n",
            "Epoch 41/250\n",
            "348/348 [==============================] - 5s 14ms/step - loss: 0.0178 - val_loss: 0.0384\n",
            "Epoch 42/250\n",
            "348/348 [==============================] - 5s 14ms/step - loss: 0.0174 - val_loss: 0.0371\n",
            "Epoch 43/250\n",
            "348/348 [==============================] - 5s 13ms/step - loss: 0.0165 - val_loss: 0.0356\n",
            "Epoch 44/250\n",
            "348/348 [==============================] - 5s 13ms/step - loss: 0.0158 - val_loss: 0.0393\n",
            "Epoch 45/250\n",
            "348/348 [==============================] - 5s 14ms/step - loss: 0.0159 - val_loss: 0.0380\n",
            "Epoch 46/250\n",
            "348/348 [==============================] - 5s 14ms/step - loss: 0.0201 - val_loss: 0.0503\n",
            "Epoch 47/250\n",
            "348/348 [==============================] - 5s 14ms/step - loss: 0.0200 - val_loss: 0.0383\n",
            "Epoch 48/250\n",
            "348/348 [==============================] - 5s 14ms/step - loss: 0.0163 - val_loss: 0.0362\n",
            "Epoch 49/250\n",
            "348/348 [==============================] - 5s 15ms/step - loss: 0.0146 - val_loss: 0.0357\n",
            "Epoch 50/250\n",
            "348/348 [==============================] - 5s 14ms/step - loss: 0.0153 - val_loss: 0.0332\n",
            "Epoch 51/250\n",
            "348/348 [==============================] - 5s 14ms/step - loss: 0.0149 - val_loss: 0.0377\n",
            "Epoch 52/250\n",
            "348/348 [==============================] - 5s 13ms/step - loss: 0.0157 - val_loss: 0.0344\n",
            "Epoch 53/250\n",
            "348/348 [==============================] - 5s 14ms/step - loss: 0.0159 - val_loss: 0.0353\n",
            "Epoch 54/250\n",
            "348/348 [==============================] - 5s 14ms/step - loss: 0.0146 - val_loss: 0.0411\n",
            "Epoch 55/250\n",
            "348/348 [==============================] - 5s 13ms/step - loss: 0.0135 - val_loss: 0.0418\n",
            "Epoch 56/250\n",
            "348/348 [==============================] - 5s 13ms/step - loss: 0.0147 - val_loss: 0.0337\n",
            "Epoch 57/250\n",
            "348/348 [==============================] - 5s 14ms/step - loss: 0.0133 - val_loss: 0.0318\n",
            "Epoch 58/250\n",
            "348/348 [==============================] - 5s 13ms/step - loss: 0.0117 - val_loss: 0.0331\n",
            "Epoch 59/250\n",
            "348/348 [==============================] - 5s 14ms/step - loss: 0.0120 - val_loss: 0.0375\n",
            "Epoch 60/250\n",
            "348/348 [==============================] - 5s 13ms/step - loss: 0.0131 - val_loss: 0.0328\n",
            "Epoch 61/250\n",
            "348/348 [==============================] - 5s 13ms/step - loss: 0.0120 - val_loss: 0.0382\n",
            "Epoch 62/250\n",
            "348/348 [==============================] - 5s 14ms/step - loss: 0.0115 - val_loss: 0.0336\n",
            "Epoch 63/250\n",
            "348/348 [==============================] - 5s 13ms/step - loss: 0.0110 - val_loss: 0.0345\n",
            "Epoch 64/250\n",
            "348/348 [==============================] - 5s 14ms/step - loss: 0.0113 - val_loss: 0.0324\n",
            "Epoch 65/250\n",
            "348/348 [==============================] - 5s 14ms/step - loss: 0.0130 - val_loss: 0.0324\n",
            "Epoch 66/250\n",
            "348/348 [==============================] - 5s 14ms/step - loss: 0.0126 - val_loss: 0.0344\n",
            "Epoch 67/250\n",
            "348/348 [==============================] - 5s 13ms/step - loss: 0.0107 - val_loss: 0.0300\n",
            "Epoch 68/250\n",
            "348/348 [==============================] - 5s 14ms/step - loss: 0.0110 - val_loss: 0.0297\n",
            "Epoch 69/250\n",
            "348/348 [==============================] - 4s 13ms/step - loss: 0.0146 - val_loss: 0.0360\n",
            "Epoch 70/250\n",
            "348/348 [==============================] - 5s 13ms/step - loss: 0.0140 - val_loss: 0.0350\n",
            "Epoch 71/250\n",
            "348/348 [==============================] - 5s 14ms/step - loss: 0.0113 - val_loss: 0.0323\n",
            "Epoch 72/250\n",
            "348/348 [==============================] - 5s 14ms/step - loss: 0.0108 - val_loss: 0.0305\n",
            "Epoch 73/250\n",
            "348/348 [==============================] - 5s 14ms/step - loss: 0.0104 - val_loss: 0.0349\n",
            "Epoch 74/250\n",
            "348/348 [==============================] - 5s 15ms/step - loss: 0.0092 - val_loss: 0.0297\n",
            "Epoch 75/250\n",
            "348/348 [==============================] - 5s 15ms/step - loss: 0.0092 - val_loss: 0.0349\n",
            "Epoch 76/250\n",
            "348/348 [==============================] - 5s 13ms/step - loss: 0.0089 - val_loss: 0.0344\n",
            "Epoch 77/250\n",
            "348/348 [==============================] - 5s 13ms/step - loss: 0.0095 - val_loss: 0.0337\n",
            "Epoch 78/250\n",
            "348/348 [==============================] - 5s 13ms/step - loss: 0.0101 - val_loss: 0.0302\n",
            "Epoch 79/250\n",
            "348/348 [==============================] - 5s 14ms/step - loss: 0.0096 - val_loss: 0.0292\n",
            "Epoch 80/250\n",
            "348/348 [==============================] - 5s 13ms/step - loss: 0.0095 - val_loss: 0.0291\n",
            "Epoch 81/250\n",
            "348/348 [==============================] - 5s 14ms/step - loss: 0.0086 - val_loss: 0.0285\n",
            "Epoch 82/250\n",
            "348/348 [==============================] - 5s 13ms/step - loss: 0.0085 - val_loss: 0.0294\n",
            "Epoch 83/250\n",
            "348/348 [==============================] - 4s 13ms/step - loss: 0.0085 - val_loss: 0.0355\n",
            "Epoch 84/250\n",
            "348/348 [==============================] - 5s 13ms/step - loss: 0.0085 - val_loss: 0.0284\n",
            "Epoch 85/250\n",
            "348/348 [==============================] - 5s 14ms/step - loss: 0.0100 - val_loss: 0.0308\n",
            "Epoch 86/250\n",
            "348/348 [==============================] - 5s 14ms/step - loss: 0.0088 - val_loss: 0.0299\n",
            "Epoch 87/250\n",
            "348/348 [==============================] - 4s 13ms/step - loss: 0.0081 - val_loss: 0.0277\n",
            "Epoch 88/250\n",
            "348/348 [==============================] - 5s 13ms/step - loss: 0.0081 - val_loss: 0.0314\n",
            "Epoch 89/250\n",
            "348/348 [==============================] - 5s 14ms/step - loss: 0.0091 - val_loss: 0.0345\n",
            "Epoch 90/250\n",
            "348/348 [==============================] - 5s 13ms/step - loss: 0.0085 - val_loss: 0.0317\n",
            "Epoch 91/250\n",
            "348/348 [==============================] - 5s 13ms/step - loss: 0.0074 - val_loss: 0.0312\n",
            "Epoch 92/250\n",
            "348/348 [==============================] - 5s 13ms/step - loss: 0.0078 - val_loss: 0.0293\n",
            "Epoch 93/250\n",
            "348/348 [==============================] - 5s 13ms/step - loss: 0.0074 - val_loss: 0.0335\n",
            "Epoch 94/250\n",
            "348/348 [==============================] - 5s 13ms/step - loss: 0.0073 - val_loss: 0.0295\n",
            "Epoch 95/250\n",
            "348/348 [==============================] - 5s 14ms/step - loss: 0.0085 - val_loss: 0.0314\n",
            "Epoch 96/250\n",
            "348/348 [==============================] - 5s 13ms/step - loss: 0.0076 - val_loss: 0.0350\n",
            "Epoch 97/250\n",
            "348/348 [==============================] - 5s 14ms/step - loss: 0.0079 - val_loss: 0.0322\n",
            "Epoch 98/250\n",
            "348/348 [==============================] - 5s 13ms/step - loss: 0.0071 - val_loss: 0.0325\n",
            "Epoch 99/250\n",
            "348/348 [==============================] - 5s 14ms/step - loss: 0.0078 - val_loss: 0.0348\n",
            "Epoch 100/250\n",
            "348/348 [==============================] - 5s 13ms/step - loss: 0.0084 - val_loss: 0.0283\n",
            "Epoch 101/250\n",
            "348/348 [==============================] - 5s 14ms/step - loss: 0.0104 - val_loss: 0.0361\n",
            "Epoch 102/250\n",
            "348/348 [==============================] - 5s 13ms/step - loss: 0.0167 - val_loss: 0.0308\n",
            "Epoch 103/250\n",
            "348/348 [==============================] - 5s 14ms/step - loss: 0.0112 - val_loss: 0.0295\n",
            "Epoch 104/250\n",
            "348/348 [==============================] - 5s 13ms/step - loss: 0.0087 - val_loss: 0.0276\n",
            "Epoch 105/250\n",
            "348/348 [==============================] - 5s 14ms/step - loss: 0.0074 - val_loss: 0.0277\n",
            "Epoch 106/250\n",
            "348/348 [==============================] - 5s 13ms/step - loss: 0.0083 - val_loss: 0.0314\n",
            "Epoch 107/250\n",
            "348/348 [==============================] - 5s 14ms/step - loss: 0.0074 - val_loss: 0.0300\n",
            "Epoch 108/250\n",
            "348/348 [==============================] - 5s 13ms/step - loss: 0.0073 - val_loss: 0.0271\n",
            "Epoch 109/250\n",
            "348/348 [==============================] - 5s 13ms/step - loss: 0.0081 - val_loss: 0.0294\n",
            "Epoch 110/250\n",
            "348/348 [==============================] - 5s 13ms/step - loss: 0.0078 - val_loss: 0.0246\n",
            "Epoch 111/250\n",
            "348/348 [==============================] - 5s 14ms/step - loss: 0.0068 - val_loss: 0.0278\n",
            "Epoch 112/250\n",
            "348/348 [==============================] - 5s 13ms/step - loss: 0.0077 - val_loss: 0.0281\n",
            "Epoch 113/250\n",
            "348/348 [==============================] - 5s 14ms/step - loss: 0.0071 - val_loss: 0.0244\n",
            "Epoch 114/250\n",
            "348/348 [==============================] - 5s 14ms/step - loss: 0.0063 - val_loss: 0.0252\n",
            "Epoch 115/250\n",
            "348/348 [==============================] - 5s 13ms/step - loss: 0.0064 - val_loss: 0.0267\n",
            "Epoch 116/250\n",
            "348/348 [==============================] - 5s 14ms/step - loss: 0.0062 - val_loss: 0.0295\n",
            "Epoch 117/250\n",
            "348/348 [==============================] - 5s 14ms/step - loss: 0.0062 - val_loss: 0.0276\n",
            "Epoch 118/250\n",
            "348/348 [==============================] - 5s 14ms/step - loss: 0.0064 - val_loss: 0.0273\n",
            "Epoch 119/250\n",
            "348/348 [==============================] - 5s 14ms/step - loss: 0.0073 - val_loss: 0.0298\n",
            "Epoch 120/250\n",
            "348/348 [==============================] - 5s 14ms/step - loss: 0.0063 - val_loss: 0.0322\n",
            "Epoch 121/250\n",
            "348/348 [==============================] - 5s 14ms/step - loss: 0.0068 - val_loss: 0.0242\n",
            "Epoch 122/250\n",
            "348/348 [==============================] - 5s 14ms/step - loss: 0.0073 - val_loss: 0.0312\n",
            "Epoch 123/250\n",
            "348/348 [==============================] - 5s 14ms/step - loss: 0.0065 - val_loss: 0.0288\n",
            "Epoch 124/250\n",
            "348/348 [==============================] - 5s 14ms/step - loss: 0.0061 - val_loss: 0.0280\n",
            "Epoch 125/250\n",
            "348/348 [==============================] - 5s 14ms/step - loss: 0.0057 - val_loss: 0.0248\n",
            "Epoch 126/250\n",
            "348/348 [==============================] - 5s 15ms/step - loss: 0.0055 - val_loss: 0.0310\n",
            "Epoch 127/250\n",
            "348/348 [==============================] - 5s 13ms/step - loss: 0.0067 - val_loss: 0.0345\n",
            "Epoch 128/250\n",
            "348/348 [==============================] - 4s 13ms/step - loss: 0.0068 - val_loss: 0.0257\n",
            "Epoch 129/250\n",
            "348/348 [==============================] - 4s 13ms/step - loss: 0.0059 - val_loss: 0.0268\n",
            "Epoch 130/250\n",
            "348/348 [==============================] - 5s 13ms/step - loss: 0.0058 - val_loss: 0.0246\n",
            "Epoch 131/250\n",
            "348/348 [==============================] - 4s 13ms/step - loss: 0.0055 - val_loss: 0.0273\n",
            "Epoch 132/250\n",
            "348/348 [==============================] - 5s 13ms/step - loss: 0.0055 - val_loss: 0.0263\n",
            "Epoch 133/250\n",
            "348/348 [==============================] - 5s 14ms/step - loss: 0.0056 - val_loss: 0.0269\n",
            "Epoch 134/250\n",
            "348/348 [==============================] - 5s 13ms/step - loss: 0.0061 - val_loss: 0.0258\n",
            "Epoch 135/250\n",
            "348/348 [==============================] - 5s 14ms/step - loss: 0.0054 - val_loss: 0.0258\n",
            "Epoch 136/250\n",
            "348/348 [==============================] - 4s 13ms/step - loss: 0.0057 - val_loss: 0.0276\n",
            "Epoch 137/250\n",
            "348/348 [==============================] - 5s 13ms/step - loss: 0.0058 - val_loss: 0.0280\n",
            "Epoch 138/250\n",
            "348/348 [==============================] - 5s 14ms/step - loss: 0.0055 - val_loss: 0.0262\n",
            "Epoch 139/250\n",
            "348/348 [==============================] - 5s 13ms/step - loss: 0.0053 - val_loss: 0.0316\n",
            "Epoch 140/250\n",
            "348/348 [==============================] - 4s 13ms/step - loss: 0.0062 - val_loss: 0.0310\n",
            "Epoch 141/250\n",
            "348/348 [==============================] - 4s 13ms/step - loss: 0.0057 - val_loss: 0.0253\n",
            "Epoch 142/250\n",
            "348/348 [==============================] - 4s 13ms/step - loss: 0.0054 - val_loss: 0.0321\n",
            "Epoch 143/250\n",
            "348/348 [==============================] - 5s 14ms/step - loss: 0.0055 - val_loss: 0.0286\n",
            "Epoch 144/250\n",
            "348/348 [==============================] - 5s 13ms/step - loss: 0.0054 - val_loss: 0.0282\n",
            "Epoch 145/250\n",
            "348/348 [==============================] - 5s 14ms/step - loss: 0.0057 - val_loss: 0.0282\n",
            "Epoch 146/250\n",
            "348/348 [==============================] - 4s 13ms/step - loss: 0.0053 - val_loss: 0.0319\n",
            "Epoch 147/250\n",
            "348/348 [==============================] - 4s 13ms/step - loss: 0.0051 - val_loss: 0.0298\n",
            "Epoch 148/250\n",
            "348/348 [==============================] - 4s 13ms/step - loss: 0.0054 - val_loss: 0.0285\n",
            "Epoch 149/250\n",
            "348/348 [==============================] - 5s 13ms/step - loss: 0.0056 - val_loss: 0.0323\n",
            "Epoch 150/250\n",
            "348/348 [==============================] - 4s 13ms/step - loss: 0.0053 - val_loss: 0.0270\n",
            "Epoch 151/250\n",
            "348/348 [==============================] - 4s 13ms/step - loss: 0.0053 - val_loss: 0.0257\n",
            "Epoch 152/250\n",
            "348/348 [==============================] - 4s 13ms/step - loss: 0.0052 - val_loss: 0.0328\n",
            "Epoch 153/250\n",
            "348/348 [==============================] - 5s 13ms/step - loss: 0.0052 - val_loss: 0.0316\n",
            "Epoch 154/250\n",
            "348/348 [==============================] - 4s 13ms/step - loss: 0.0054 - val_loss: 0.0275\n",
            "Epoch 155/250\n",
            "348/348 [==============================] - 5s 14ms/step - loss: 0.0052 - val_loss: 0.0326\n",
            "Epoch 156/250\n",
            "348/348 [==============================] - 5s 13ms/step - loss: 0.0062 - val_loss: 0.0251\n",
            "Epoch 157/250\n",
            "348/348 [==============================] - 5s 13ms/step - loss: 0.0064 - val_loss: 0.0248\n",
            "Epoch 158/250\n",
            "348/348 [==============================] - 4s 13ms/step - loss: 0.0067 - val_loss: 0.0295\n",
            "Epoch 159/250\n",
            "348/348 [==============================] - 5s 13ms/step - loss: 0.0059 - val_loss: 0.0267\n",
            "Epoch 160/250\n",
            "348/348 [==============================] - 4s 13ms/step - loss: 0.0052 - val_loss: 0.0248\n",
            "Epoch 161/250\n",
            "348/348 [==============================] - 5s 13ms/step - loss: 0.0049 - val_loss: 0.0304\n",
            "Epoch 162/250\n",
            "348/348 [==============================] - 5s 13ms/step - loss: 0.0049 - val_loss: 0.0297\n",
            "Epoch 163/250\n",
            "348/348 [==============================] - 5s 13ms/step - loss: 0.0055 - val_loss: 0.0294\n",
            "Epoch 164/250\n",
            "348/348 [==============================] - 5s 13ms/step - loss: 0.0051 - val_loss: 0.0298\n",
            "Epoch 165/250\n",
            "348/348 [==============================] - 4s 13ms/step - loss: 0.0050 - val_loss: 0.0255\n",
            "Epoch 166/250\n",
            "348/348 [==============================] - 4s 13ms/step - loss: 0.0050 - val_loss: 0.0298\n",
            "Epoch 167/250\n",
            "348/348 [==============================] - 4s 12ms/step - loss: 0.0049 - val_loss: 0.0248\n",
            "Epoch 168/250\n",
            "348/348 [==============================] - 4s 13ms/step - loss: 0.0048 - val_loss: 0.0307\n",
            "Epoch 169/250\n",
            "348/348 [==============================] - 5s 13ms/step - loss: 0.0050 - val_loss: 0.0260\n",
            "Epoch 170/250\n",
            "348/348 [==============================] - 5s 14ms/step - loss: 0.0053 - val_loss: 0.0275\n",
            "Epoch 171/250\n",
            "348/348 [==============================] - 5s 13ms/step - loss: 0.0048 - val_loss: 0.0285\n",
            "Epoch 172/250\n",
            "348/348 [==============================] - 4s 13ms/step - loss: 0.0055 - val_loss: 0.0306\n",
            "Epoch 173/250\n",
            "348/348 [==============================] - 4s 13ms/step - loss: 0.0049 - val_loss: 0.0250\n",
            "Epoch 174/250\n",
            "348/348 [==============================] - 5s 13ms/step - loss: 0.0046 - val_loss: 0.0300\n",
            "Epoch 175/250\n",
            "348/348 [==============================] - 5s 13ms/step - loss: 0.0046 - val_loss: 0.0241\n",
            "Epoch 176/250\n",
            "348/348 [==============================] - 5s 14ms/step - loss: 0.0049 - val_loss: 0.0267\n",
            "Epoch 177/250\n",
            "348/348 [==============================] - 4s 13ms/step - loss: 0.0052 - val_loss: 0.0277\n",
            "Epoch 178/250\n",
            "348/348 [==============================] - 4s 13ms/step - loss: 0.0050 - val_loss: 0.0286\n",
            "Epoch 179/250\n",
            "348/348 [==============================] - 5s 13ms/step - loss: 0.0047 - val_loss: 0.0254\n",
            "Epoch 180/250\n",
            "348/348 [==============================] - 4s 13ms/step - loss: 0.0046 - val_loss: 0.0273\n",
            "Epoch 181/250\n",
            "348/348 [==============================] - 4s 13ms/step - loss: 0.0049 - val_loss: 0.0249\n",
            "Epoch 182/250\n",
            "348/348 [==============================] - 5s 13ms/step - loss: 0.0046 - val_loss: 0.0285\n",
            "Epoch 183/250\n",
            "348/348 [==============================] - 5s 13ms/step - loss: 0.0043 - val_loss: 0.0333\n",
            "Epoch 184/250\n",
            "348/348 [==============================] - 4s 13ms/step - loss: 0.0046 - val_loss: 0.0269\n",
            "Epoch 185/250\n",
            "348/348 [==============================] - 5s 13ms/step - loss: 0.0055 - val_loss: 0.0327\n",
            "Epoch 186/250\n",
            "348/348 [==============================] - 4s 13ms/step - loss: 0.0060 - val_loss: 0.0275\n",
            "Epoch 187/250\n",
            "348/348 [==============================] - 4s 13ms/step - loss: 0.0053 - val_loss: 0.0278\n",
            "Epoch 188/250\n",
            "348/348 [==============================] - 5s 13ms/step - loss: 0.0048 - val_loss: 0.0381\n",
            "Epoch 189/250\n",
            "348/348 [==============================] - 5s 13ms/step - loss: 0.0052 - val_loss: 0.0275\n",
            "Epoch 190/250\n",
            "348/348 [==============================] - 5s 13ms/step - loss: 0.0048 - val_loss: 0.0294\n",
            "Epoch 191/250\n",
            "348/348 [==============================] - 5s 13ms/step - loss: 0.0043 - val_loss: 0.0266\n",
            "Epoch 192/250\n",
            "348/348 [==============================] - 5s 14ms/step - loss: 0.0042 - val_loss: 0.0277\n",
            "Epoch 193/250\n",
            "348/348 [==============================] - 5s 13ms/step - loss: 0.0045 - val_loss: 0.0273\n",
            "Epoch 194/250\n",
            "348/348 [==============================] - 5s 14ms/step - loss: 0.0043 - val_loss: 0.0258\n",
            "Epoch 195/250\n",
            "348/348 [==============================] - 4s 13ms/step - loss: 0.0044 - val_loss: 0.0262\n",
            "Epoch 196/250\n",
            "348/348 [==============================] - 5s 13ms/step - loss: 0.0046 - val_loss: 0.0280\n",
            "Epoch 197/250\n",
            "348/348 [==============================] - 5s 13ms/step - loss: 0.0048 - val_loss: 0.0279\n",
            "Epoch 198/250\n",
            "348/348 [==============================] - 5s 13ms/step - loss: 0.0043 - val_loss: 0.0281\n",
            "Epoch 199/250\n",
            "348/348 [==============================] - 5s 14ms/step - loss: 0.0041 - val_loss: 0.0260\n",
            "Epoch 200/250\n",
            "348/348 [==============================] - 4s 13ms/step - loss: 0.0041 - val_loss: 0.0295\n",
            "Epoch 201/250\n",
            "348/348 [==============================] - 5s 14ms/step - loss: 0.0041 - val_loss: 0.0296\n",
            "Epoch 202/250\n",
            "348/348 [==============================] - 4s 13ms/step - loss: 0.0043 - val_loss: 0.0261\n",
            "Epoch 203/250\n",
            "348/348 [==============================] - 4s 12ms/step - loss: 0.0050 - val_loss: 0.0308\n",
            "Epoch 204/250\n",
            "348/348 [==============================] - 5s 13ms/step - loss: 0.0045 - val_loss: 0.0277\n",
            "Epoch 205/250\n",
            "348/348 [==============================] - 5s 13ms/step - loss: 0.0042 - val_loss: 0.0309\n",
            "Epoch 206/250\n",
            "348/348 [==============================] - 4s 12ms/step - loss: 0.0043 - val_loss: 0.0283\n",
            "Epoch 207/250\n",
            "348/348 [==============================] - 4s 12ms/step - loss: 0.0041 - val_loss: 0.0255\n",
            "Epoch 208/250\n",
            "348/348 [==============================] - 4s 13ms/step - loss: 0.0039 - val_loss: 0.0276\n",
            "Epoch 209/250\n",
            "348/348 [==============================] - 5s 13ms/step - loss: 0.0046 - val_loss: 0.0287\n",
            "Epoch 210/250\n",
            "348/348 [==============================] - 5s 13ms/step - loss: 0.0046 - val_loss: 0.0272\n",
            "Epoch 211/250\n",
            "348/348 [==============================] - 4s 13ms/step - loss: 0.0041 - val_loss: 0.0321\n",
            "Epoch 212/250\n",
            "348/348 [==============================] - 5s 13ms/step - loss: 0.0041 - val_loss: 0.0270\n",
            "Epoch 213/250\n",
            "348/348 [==============================] - 5s 13ms/step - loss: 0.0044 - val_loss: 0.0249\n",
            "Epoch 214/250\n",
            "348/348 [==============================] - 4s 13ms/step - loss: 0.0040 - val_loss: 0.0292\n",
            "Epoch 215/250\n",
            "348/348 [==============================] - 5s 13ms/step - loss: 0.0047 - val_loss: 0.0269\n",
            "Epoch 216/250\n",
            "348/348 [==============================] - 5s 13ms/step - loss: 0.0043 - val_loss: 0.0260\n",
            "Epoch 217/250\n",
            "348/348 [==============================] - 4s 12ms/step - loss: 0.0043 - val_loss: 0.0260\n",
            "Epoch 218/250\n",
            "348/348 [==============================] - 5s 14ms/step - loss: 0.0046 - val_loss: 0.0336\n",
            "Epoch 219/250\n",
            "348/348 [==============================] - 5s 13ms/step - loss: 0.0043 - val_loss: 0.0351\n",
            "Epoch 220/250\n",
            "348/348 [==============================] - 4s 13ms/step - loss: 0.0049 - val_loss: 0.0284\n",
            "Epoch 221/250\n",
            "348/348 [==============================] - 4s 12ms/step - loss: 0.0043 - val_loss: 0.0326\n",
            "Epoch 222/250\n",
            "348/348 [==============================] - 4s 13ms/step - loss: 0.0039 - val_loss: 0.0312\n",
            "Epoch 223/250\n",
            "348/348 [==============================] - 5s 13ms/step - loss: 0.0041 - val_loss: 0.0312\n",
            "Epoch 224/250\n",
            "348/348 [==============================] - 4s 12ms/step - loss: 0.0048 - val_loss: 0.0339\n",
            "Epoch 225/250\n",
            "348/348 [==============================] - 4s 13ms/step - loss: 0.0040 - val_loss: 0.0255\n",
            "Epoch 226/250\n",
            "348/348 [==============================] - 4s 13ms/step - loss: 0.0039 - val_loss: 0.0279\n",
            "Epoch 227/250\n",
            "348/348 [==============================] - 5s 13ms/step - loss: 0.0038 - val_loss: 0.0322\n",
            "Epoch 228/250\n",
            "348/348 [==============================] - 5s 13ms/step - loss: 0.0038 - val_loss: 0.0270\n",
            "Epoch 229/250\n",
            "348/348 [==============================] - 4s 12ms/step - loss: 0.0040 - val_loss: 0.0293\n",
            "Epoch 230/250\n",
            "348/348 [==============================] - 4s 13ms/step - loss: 0.0039 - val_loss: 0.0274\n",
            "Epoch 231/250\n",
            "348/348 [==============================] - 4s 13ms/step - loss: 0.0047 - val_loss: 0.0248\n",
            "Epoch 232/250\n",
            "348/348 [==============================] - 4s 13ms/step - loss: 0.0071 - val_loss: 0.0320\n",
            "Epoch 233/250\n",
            "348/348 [==============================] - 5s 14ms/step - loss: 0.0055 - val_loss: 0.0249\n",
            "Epoch 234/250\n",
            "348/348 [==============================] - 5s 13ms/step - loss: 0.0050 - val_loss: 0.0298\n",
            "Epoch 235/250\n",
            "348/348 [==============================] - 4s 13ms/step - loss: 0.0053 - val_loss: 0.0308\n",
            "Epoch 236/250\n",
            "348/348 [==============================] - 4s 12ms/step - loss: 0.0045 - val_loss: 0.0344\n",
            "Epoch 237/250\n",
            "348/348 [==============================] - 4s 13ms/step - loss: 0.0049 - val_loss: 0.0320\n",
            "Epoch 238/250\n",
            "348/348 [==============================] - 4s 13ms/step - loss: 0.0044 - val_loss: 0.0313\n",
            "Epoch 239/250\n",
            "348/348 [==============================] - 4s 13ms/step - loss: 0.0039 - val_loss: 0.0311\n",
            "Epoch 240/250\n",
            "348/348 [==============================] - 5s 13ms/step - loss: 0.0038 - val_loss: 0.0295\n",
            "Epoch 241/250\n",
            "348/348 [==============================] - 5s 14ms/step - loss: 0.0040 - val_loss: 0.0317\n",
            "Epoch 242/250\n",
            "348/348 [==============================] - 5s 13ms/step - loss: 0.0043 - val_loss: 0.0326\n",
            "Epoch 243/250\n",
            "348/348 [==============================] - 4s 13ms/step - loss: 0.0041 - val_loss: 0.0314\n",
            "Epoch 244/250\n",
            "348/348 [==============================] - 4s 12ms/step - loss: 0.0043 - val_loss: 0.0353\n",
            "Epoch 245/250\n",
            "348/348 [==============================] - 5s 13ms/step - loss: 0.0042 - val_loss: 0.0300\n",
            "Epoch 246/250\n",
            "348/348 [==============================] - 4s 12ms/step - loss: 0.0041 - val_loss: 0.0291\n",
            "Epoch 247/250\n",
            "348/348 [==============================] - 4s 12ms/step - loss: 0.0042 - val_loss: 0.0350\n",
            "Epoch 248/250\n",
            "348/348 [==============================] - 5s 13ms/step - loss: 0.0040 - val_loss: 0.0278\n",
            "Epoch 249/250\n",
            "348/348 [==============================] - 4s 13ms/step - loss: 0.0040 - val_loss: 0.0272\n",
            "Epoch 250/250\n",
            "348/348 [==============================] - 5s 13ms/step - loss: 0.0042 - val_loss: 0.0279\n"
          ],
          "name": "stdout"
        },
        {
          "output_type": "execute_result",
          "data": {
            "text/plain": [
              "<keras.callbacks.History at 0x7f003f72a160>"
            ]
          },
          "metadata": {
            "tags": []
          },
          "execution_count": 15
        }
      ]
    },
    {
      "cell_type": "code",
      "metadata": {
        "id": "98mQ_C1GR-l4",
        "colab_type": "code",
        "colab": {}
      },
      "source": [
        "Y_predict=sequence_autoencoder.predict([X,X_decoder])"
      ],
      "execution_count": 0,
      "outputs": []
    },
    {
      "cell_type": "code",
      "metadata": {
        "id": "kTDT5BKbR-l6",
        "colab_type": "code",
        "outputId": "a7ae652a-af0b-43b2-995b-f4f0d44bb4fd",
        "colab": {
          "base_uri": "https://localhost:8080/",
          "height": 286
        }
      },
      "source": [
        "plt.plot(np.arange(136),Y_predict[0].flatten(),label='predicted_normal')\n",
        "plt.plot(np.arange(136),Y[0].flatten(),label='normal')\n",
        "plt.legend()"
      ],
      "execution_count": 17,
      "outputs": [
        {
          "output_type": "execute_result",
          "data": {
            "text/plain": [
              "<matplotlib.legend.Legend at 0x7f00399b8c88>"
            ]
          },
          "metadata": {
            "tags": []
          },
          "execution_count": 17
        },
        {
          "output_type": "display_data",
          "data": {
            "image/png": "[encoded data removed]",
            "text/plain": [
              "<Figure size 432x288 with 1 Axes>"
            ]
          },
          "metadata": {
            "tags": []
          }
        }
      ]
    },
    {
      "cell_type": "code",
      "metadata": {
        "id": "yl4YM9RER-l8",
        "colab_type": "code",
        "outputId": "802afbda-e9f7-457d-ed49-29ac10fbda92",
        "colab": {
          "base_uri": "https://localhost:8080/",
          "height": 34
        }
      },
      "source": [
        "normal_mse=np.mean(np.square((Y_predict[:80]-Y[:80])),axis=1).flatten()\n",
        "print(np.mean(normal_mse))"
      ],
      "execution_count": 18,
      "outputs": [
        {
          "output_type": "stream",
          "text": [
            "0.0049441231476515055\n"
          ],
          "name": "stdout"
        }
      ]
    },
    {
      "cell_type": "code",
      "metadata": {
        "id": "Ji4zOS0yR-l_",
        "colab_type": "code",
        "outputId": "97d30d09-3928-46e8-d01a-012a222b4c5a",
        "colab": {
          "base_uri": "https://localhost:8080/",
          "height": 286
        }
      },
      "source": [
        "\n",
        "abY_predict=sequence_autoencoder.predict([abX,abX_decoder])\n",
        "plt.plot(np.arange(136),abY_predict[100].flatten(),label='predicted_abnormal')\n",
        "plt.plot(np.arange(136),abY[100].flatten(),label='abnormal')\n",
        "plt.legend()"
      ],
      "execution_count": 19,
      "outputs": [
        {
          "output_type": "execute_result",
          "data": {
            "text/plain": [
              "<matplotlib.legend.Legend at 0x7f00394229b0>"
            ]
          },
          "metadata": {
            "tags": []
          },
          "execution_count": 19
        },
        {
          "output_type": "display_data",
          "data": {
            "image/png": "[encoded data removed]",
            "text/plain": [
              "<Figure size 432x288 with 1 Axes>"
            ]
          },
          "metadata": {
            "tags": []
          }
        }
      ]
    },
    {
      "cell_type": "code",
      "metadata": {
        "id": "K9AAF6K3R-mB",
        "colab_type": "code",
        "colab": {}
      },
      "source": [
        "abnormal_mse=np.mean(np.square((abY_predict-abY)),axis=1).flatten()"
      ],
      "execution_count": 0,
      "outputs": []
    },
    {
      "cell_type": "code",
      "metadata": {
        "id": "97bK6byAR-mD",
        "colab_type": "code",
        "outputId": "9c102291-04ab-4f4d-dc2d-9565d233c1a8",
        "colab": {
          "base_uri": "https://localhost:8080/",
          "height": 336
        }
      },
      "source": [
        "plt.hist(abnormal_mse,normed=True,alpha = 0.5,label='abnormal_mse')\n",
        "plt.hist(normal_mse,normed=True,alpha = 0.5,label='normal_mse')\n",
        "plt.legend()"
      ],
      "execution_count": 21,
      "outputs": [
        {
          "output_type": "stream",
          "text": [
            "/usr/local/lib/python3.6/dist-packages/matplotlib/axes/_axes.py:6521: MatplotlibDeprecationWarning: \n",
            "The 'normed' kwarg was deprecated in Matplotlib 2.1 and will be removed in 3.1. Use 'density' instead.\n",
            "  alternative=\"'density'\", removal=\"3.1\")\n"
          ],
          "name": "stderr"
        },
        {
          "output_type": "execute_result",
          "data": {
            "text/plain": [
              "<matplotlib.legend.Legend at 0x7f00393a7b38>"
            ]
          },
          "metadata": {
            "tags": []
          },
          "execution_count": 21
        },
        {
          "output_type": "display_data",
          "data": {
            "image/png": "[encoded data removed]",
            "text/plain": [
              "<Figure size 432x288 with 1 Axes>"
            ]
          },
          "metadata": {
            "tags": []
          }
        }
      ]
    },
    {
      "cell_type": "code",
      "metadata": {
        "id": "J0jZbsfOR-mG",
        "colab_type": "code",
        "outputId": "84eba6a6-051c-42a0-9b49-1f6451117071",
        "colab": {
          "base_uri": "https://localhost:8080/",
          "height": 50
        }
      },
      "source": [
        "print(len(normal_mse[normal_mse<0.0002])/len(normal_mse))\n",
        "print(len(abnormal_mse[abnormal_mse>0.0002])/float(len(abnormal_mse)))"
      ],
      "execution_count": 22,
      "outputs": [
        {
          "output_type": "stream",
          "text": [
            "0.0\n",
            "1.0\n"
          ],
          "name": "stdout"
        }
      ]
    },
    {
      "cell_type": "markdown",
      "metadata": {
        "id": "qtlwyvSmoULA",
        "colab_type": "text"
      },
      "source": [
        "Calculate AUC score"
      ]
    },
    {
      "cell_type": "code",
      "metadata": {
        "id": "RNZW05sJR-mI",
        "colab_type": "code",
        "outputId": "b21d40b5-becf-4931-9fb2-9362622c8f1a",
        "colab": {
          "base_uri": "https://localhost:8080/",
          "height": 34
        }
      },
      "source": [
        "#print(abnormal_mse.shape)\n",
        "y_true=np.concatenate((np.zeros(len(normal_mse)),np.ones(len(abnormal_mse))))\n",
        "y_score=np.concatenate((normal_mse,abnormal_mse))\n",
        "from sklearn.metrics import roc_auc_score\n",
        "roc_auc_score(y_true, y_score, average='macro')"
      ],
      "execution_count": 23,
      "outputs": [
        {
          "output_type": "execute_result",
          "data": {
            "text/plain": [
              "0.977742494226328"
            ]
          },
          "metadata": {
            "tags": []
          },
          "execution_count": 23
        }
      ]
    },
    {
      "cell_type": "code",
      "metadata": {
        "id": "nKLxySV_R-mK",
        "colab_type": "code",
        "colab": {}
      },
      "source": [
        ""
      ],
      "execution_count": 0,
      "outputs": []
    }
  ]
}